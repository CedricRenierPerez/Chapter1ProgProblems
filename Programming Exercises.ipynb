{
 "cells": [
  {
   "cell_type": "markdown",
   "metadata": {},
   "source": [
    "1. Start up an interactive Python session and try typing in each of the following commands. Write down the results you see.\n",
    "\n",
    "    a) print (\"Hello, world! \")\n",
    "\n",
    "    b) print(\"Hello\", \"world!\")\n",
    "\n",
    "    c) print (3)\n",
    "\n",
    "    d) print(3.0)\n",
    "\n",
    "    e) print (2 + 3)\n",
    "\n",
    "    f) print(2. 0 + 3. 0)\n",
    "\n",
    "    g) print (\"2\" + \"3\")\n",
    "\n",
    "    h) print ( \"2 + 3 =\", 2 + 3)\n",
    "\n",
    "    i) print(2 * 3)\n",
    "\n",
    "    j) print (2 ** 3)\n",
    "\n",
    "    k) print (7 / 3)\n",
    "\n",
    "    l) print(7// 3)"
   ]
  },
  {
   "cell_type": "code",
   "execution_count": null,
   "metadata": {},
   "outputs": [],
   "source": [
    "print(\"Hello, world!\")"
   ]
  },
  {
   "cell_type": "code",
   "execution_count": 2,
   "metadata": {},
   "outputs": [
    {
     "name": "stdout",
     "output_type": "stream",
     "text": [
      "Hello world!\n"
     ]
    }
   ],
   "source": [
    "print(\"Hello\", \"world!\")"
   ]
  },
  {
   "cell_type": "code",
   "execution_count": 3,
   "metadata": {},
   "outputs": [
    {
     "name": "stdout",
     "output_type": "stream",
     "text": [
      "3\n"
     ]
    }
   ],
   "source": [
    "print(3)"
   ]
  },
  {
   "cell_type": "code",
   "execution_count": 4,
   "metadata": {},
   "outputs": [
    {
     "name": "stdout",
     "output_type": "stream",
     "text": [
      "3.0\n"
     ]
    }
   ],
   "source": [
    "print(3.0)"
   ]
  },
  {
   "cell_type": "code",
   "execution_count": 5,
   "metadata": {},
   "outputs": [
    {
     "name": "stdout",
     "output_type": "stream",
     "text": [
      "5\n"
     ]
    }
   ],
   "source": [
    "print (2 + 3)"
   ]
  },
  {
   "cell_type": "code",
   "execution_count": 8,
   "metadata": {},
   "outputs": [
    {
     "name": "stdout",
     "output_type": "stream",
     "text": [
      "5.0\n"
     ]
    }
   ],
   "source": [
    "print(2.0 + 3.0)"
   ]
  },
  {
   "cell_type": "code",
   "execution_count": 9,
   "metadata": {},
   "outputs": [
    {
     "name": "stdout",
     "output_type": "stream",
     "text": [
      "23\n"
     ]
    }
   ],
   "source": [
    "print (\"2\" + \"3\")"
   ]
  },
  {
   "cell_type": "code",
   "execution_count": 10,
   "metadata": {},
   "outputs": [
    {
     "name": "stdout",
     "output_type": "stream",
     "text": [
      "2 + 3 = 5\n"
     ]
    }
   ],
   "source": [
    "print ( \"2 + 3 =\", 2 + 3)"
   ]
  },
  {
   "cell_type": "code",
   "execution_count": 11,
   "metadata": {},
   "outputs": [
    {
     "name": "stdout",
     "output_type": "stream",
     "text": [
      "6\n"
     ]
    }
   ],
   "source": [
    "print(2 * 3)"
   ]
  },
  {
   "cell_type": "code",
   "execution_count": 12,
   "metadata": {},
   "outputs": [
    {
     "name": "stdout",
     "output_type": "stream",
     "text": [
      "8\n"
     ]
    }
   ],
   "source": [
    "print (2 ** 3)"
   ]
  },
  {
   "cell_type": "code",
   "execution_count": 13,
   "metadata": {},
   "outputs": [
    {
     "name": "stdout",
     "output_type": "stream",
     "text": [
      "2.3333333333333335\n"
     ]
    }
   ],
   "source": [
    "print (7 / 3)"
   ]
  },
  {
   "cell_type": "code",
   "execution_count": 15,
   "metadata": {},
   "outputs": [
    {
     "name": "stdout",
     "output_type": "stream",
     "text": [
      "2\n"
     ]
    }
   ],
   "source": [
    "print(7 // 3)"
   ]
  },
  {
   "cell_type": "markdown",
   "metadata": {},
   "source": [
    "2. Enter and run the chaos program from Section 1.6. Try it out with various\n",
    "values of input to see that it functions as described in the chapter.\n",
    "\n",
    "    a. First Run"
   ]
  },
  {
   "cell_type": "code",
   "execution_count": 18,
   "metadata": {
    "scrolled": true
   },
   "outputs": [
    {
     "name": "stdout",
     "output_type": "stream",
     "text": [
      "This program illustrates a chaotic function\n",
      "Enter a number between 0 and 1: .25\n",
      "0.73125\n",
      "0.76644140625\n",
      "0.6981350104385375\n",
      "0.8218958187902304\n",
      "0.5708940191969317\n",
      "0.9553987483642099\n",
      "0.166186721954413\n",
      "0.5404179120617926\n",
      "0.9686289302998042\n",
      "0.11850901017563877\n"
     ]
    }
   ],
   "source": [
    "def main():\n",
    "    print(\"This program illustrates a chaotic function\")\n",
    "    x = eval(input(\"Enter a number between 0 and 1: \"))\n",
    "    for i in range(10):\n",
    "        x=3.9*x*(1-x)\n",
    "        print(x)\n",
    "        \n",
    "main()"
   ]
  },
  {
   "cell_type": "markdown",
   "metadata": {},
   "source": [
    "    b. Second Run"
   ]
  },
  {
   "cell_type": "code",
   "execution_count": 19,
   "metadata": {},
   "outputs": [
    {
     "name": "stdout",
     "output_type": "stream",
     "text": [
      "This program illustrates a chaotic function\n",
      "Enter a number between 0 and 1: .26\n",
      "0.75036\n",
      "0.73054749456\n",
      "0.7677066257332165\n",
      "0.6954993339002887\n",
      "0.8259420407337192\n",
      "0.5606709657211202\n",
      "0.9606442322820199\n",
      "0.14744687593470315\n",
      "0.49025454937601765\n",
      "0.9746296021493285\n"
     ]
    }
   ],
   "source": [
    "def main():\n",
    "    print(\"This program illustrates a chaotic function\")\n",
    "    x = eval(input(\"Enter a number between 0 and 1: \"))\n",
    "    for i in range(10):\n",
    "        x=3.9*x*(1-x)\n",
    "        print(x)\n",
    "        \n",
    "main()"
   ]
  },
  {
   "cell_type": "markdown",
   "metadata": {},
   "source": [
    "3. Modify the chaos program using 2.0 in place of 3.9 as the multiplier in the\n",
    "logistic function. Your modified line of code should look like this:\n",
    "\n",
    "    a. First Run\n"
   ]
  },
  {
   "cell_type": "code",
   "execution_count": 20,
   "metadata": {},
   "outputs": [
    {
     "name": "stdout",
     "output_type": "stream",
     "text": [
      "This program illustrates a chaotic function\n",
      "Enter a number between 0 and 1: .25\n",
      "0.375\n",
      "0.46875\n",
      "0.498046875\n",
      "0.49999237060546875\n",
      "0.4999999998835847\n",
      "0.5\n",
      "0.5\n",
      "0.5\n",
      "0.5\n",
      "0.5\n"
     ]
    }
   ],
   "source": [
    "def main():\n",
    "    print(\"This program illustrates a chaotic function\")\n",
    "    x = eval(input(\"Enter a number between 0 and 1: \"))\n",
    "    for i in range(10):\n",
    "        x=2.0*x*(1-x)\n",
    "        print(x)\n",
    "        \n",
    "main()"
   ]
  },
  {
   "cell_type": "markdown",
   "metadata": {},
   "source": [
    "    b. Second Run"
   ]
  },
  {
   "cell_type": "code",
   "execution_count": 21,
   "metadata": {},
   "outputs": [
    {
     "name": "stdout",
     "output_type": "stream",
     "text": [
      "This program illustrates a chaotic function\n",
      "Enter a number between 0 and 1: .26\n",
      "0.38480000000000003\n",
      "0.47345792000000003\n",
      "0.49859103597854726\n",
      "0.4999960296407725\n",
      "0.4999999999684725\n",
      "0.49999999999999994\n",
      "0.49999999999999994\n",
      "0.49999999999999994\n",
      "0.49999999999999994\n",
      "0.49999999999999994\n"
     ]
    }
   ],
   "source": [
    "def main():\n",
    "    print(\"This program illustrates a chaotic function\")\n",
    "    x = eval(input(\"Enter a number between 0 and 1: \"))\n",
    "    for i in range(10):\n",
    "        x=2.0*x*(1-x)\n",
    "        print(x)\n",
    "        \n",
    "main()"
   ]
  },
  {
   "cell_type": "markdown",
   "metadata": {},
   "source": [
    "Comparison: As can be seen no mater the value we enter, as long as is between the pre-determined maximum of 1 and minimum of 0 the calculated value tends to 0.5 after some iterations. From this we can conclude that this kind of behaviour is not chaotic anymore. In mathematics this is considered a steady-state solution, which is a system that tends toward a specific value after a number of iterations have passed."
   ]
  },
  {
   "cell_type": "markdown",
   "metadata": {},
   "source": [
    "4. Modify the chaos program so that it prints out 20 values instead of 10."
   ]
  },
  {
   "cell_type": "code",
   "execution_count": 24,
   "metadata": {
    "scrolled": true
   },
   "outputs": [
    {
     "name": "stdout",
     "output_type": "stream",
     "text": [
      "This program illustrates a chaotic function\n",
      "Enter a number between 0 and 1: .25\n",
      "0.73125\n",
      "0.76644140625\n",
      "0.6981350104385375\n",
      "0.8218958187902304\n",
      "0.5708940191969317\n",
      "0.9553987483642099\n",
      "0.166186721954413\n",
      "0.5404179120617926\n",
      "0.9686289302998042\n",
      "0.11850901017563877\n",
      "0.4074120362630336\n",
      "0.9415671289870646\n",
      "0.214572035332672\n",
      "0.6572704202448796\n",
      "0.8785374581723959\n",
      "0.4161666317654883\n",
      "0.9475906688447814\n",
      "0.19368411333601687\n",
      "0.6090652525513056\n",
      "0.9286086056750876\n"
     ]
    }
   ],
   "source": [
    "def main():\n",
    "    print(\"This program illustrates a chaotic function\")\n",
    "    x = eval(input(\"Enter a number between 0 and 1: \"))\n",
    "    for i in range(20):\n",
    "        x=3.9*x*(1-x)\n",
    "        print(x)\n",
    "        \n",
    "main()"
   ]
  },
  {
   "cell_type": "markdown",
   "metadata": {},
   "source": [
    "5. Modify the chaos program so that the number of values to print is determined\n",
    "by the user. You will have to add a line near the top of the program\n",
    "to get another value from the user:\n",
    "\n",
    "    n = eval(input(\"How many numbers should I print? \") )\n",
    "\n",
    "    Then you will need to change the loop to use n instead of a specific number."
   ]
  },
  {
   "cell_type": "code",
   "execution_count": 25,
   "metadata": {},
   "outputs": [
    {
     "name": "stdout",
     "output_type": "stream",
     "text": [
      "This program illustrates a chaotic function\n",
      "How many numbers should I print?6\n",
      "Enter a number between 0 and 1: .25\n",
      "0.73125\n",
      "0.76644140625\n",
      "0.6981350104385375\n",
      "0.8218958187902304\n",
      "0.5708940191969317\n",
      "0.9553987483642099\n"
     ]
    }
   ],
   "source": [
    "def main():\n",
    "    print(\"This program illustrates a chaotic function\")\n",
    "    n = eval(input(\"How many numbers should I print?\"))\n",
    "    x = eval(input(\"Enter a number between 0 and 1: \"))\n",
    "    for i in range(n):\n",
    "        x=3.9*x*(1-x)\n",
    "        print(x)\n",
    "        \n",
    "main()"
   ]
  },
  {
   "cell_type": "markdown",
   "metadata": {},
   "source": [
    "6. The calculation performed in the chaos program can be written in a number\n",
    "of ways that are algebraically equivalent. Write a version of the program\n",
    "for each of the following ways of doing the computation. Have your\n",
    "modified programs print out 100 iterations of the calculation and compare\n",
    "the results when run on the same input.\n",
    "\n",
    "    a) 3 . 9 * x * ( 1 - x)\n",
    "\n",
    "    b) 3.9 * (x - x * x)\n",
    "\n",
    "    C) 3.9 * X - 3.9 * X * X\n",
    "\n",
    "    Explain the results of this experiment. Hint: See discussion question number\n",
    "    4, above.\n",
    "    \n",
    "    a) 3 . 9 * x * ( 1 - x)"
   ]
  },
  {
   "cell_type": "code",
   "execution_count": 26,
   "metadata": {},
   "outputs": [
    {
     "name": "stdout",
     "output_type": "stream",
     "text": [
      "This program illustrates a chaotic function\n",
      "Enter a number between 0 and 1: .25\n",
      "0.73125\n",
      "0.76644140625\n",
      "0.6981350104385375\n",
      "0.8218958187902304\n",
      "0.5708940191969317\n",
      "0.9553987483642099\n",
      "0.166186721954413\n",
      "0.5404179120617926\n",
      "0.9686289302998042\n",
      "0.11850901017563877\n",
      "0.4074120362630336\n",
      "0.9415671289870646\n",
      "0.214572035332672\n",
      "0.6572704202448796\n",
      "0.8785374581723959\n",
      "0.4161666317654883\n",
      "0.9475906688447814\n",
      "0.19368411333601687\n",
      "0.6090652525513056\n",
      "0.9286086056750876\n",
      "0.25854918625090323\n",
      "0.747635867705606\n",
      "0.7358382604001973\n",
      "0.7580832282324941\n",
      "0.7152328844898681\n",
      "0.7943317411932672\n",
      "0.6371384218919443\n",
      "0.9016529076398497\n",
      "0.3458322729593719\n",
      "0.8823060165625929\n",
      "0.4049842278301656\n",
      "0.9397908118519834\n",
      "0.2206777630612359\n",
      "0.6707184430109472\n",
      "0.8613353315420801\n",
      "0.4658034348995627\n",
      "0.9704393202477929\n",
      "0.11187869926269879\n",
      "0.387511238064543\n",
      "0.9256504859090895\n",
      "0.2684044889968884\n",
      "0.7658177252045096\n",
      "0.6994296541716892\n",
      "0.8198884708441456\n",
      "0.5759183282618774\n",
      "0.952521988992295\n",
      "0.1763730129659832\n",
      "0.5665357357268088\n",
      "0.9577346838980398\n",
      "0.15786794071137003\n",
      "0.5184880506269934\n",
      "0.9736669487376536\n",
      "0.09999452452688812\n",
      "0.35098291640696583\n",
      "0.8883962443099641\n",
      "0.38667859388306725\n",
      "0.9249172097711567\n",
      "0.2708369228771499\n",
      "0.7701887079259878\n",
      "0.6902924422262124\n",
      "0.8337762670831761\n",
      "0.5405142737748792\n",
      "0.9685985151199271\n",
      "0.11862018334685781\n",
      "0.40774279825350096\n",
      "0.9418055740310326\n",
      "0.2137505555449281\n",
      "0.6554388966417345\n",
      "0.8807711227021208\n",
      "0.4095520732530493\n",
      "0.9430947729339951\n",
      "0.20930138657442807\n",
      "0.6454278329945545\n",
      "0.8925179070229811\n",
      "0.3741258013985637\n",
      "0.91320717589314\n",
      "0.30911333618262093\n",
      "0.8328928981490166\n",
      "0.5428110416115991\n",
      "0.9678521373929067\n",
      "0.1213460723938663\n",
      "0.41582269212295053\n",
      "0.9473653052704324\n",
      "0.19447070619714207\n",
      "0.6109422174504751\n",
      "0.9269981151099689\n",
      "0.26392317780088165\n",
      "0.7576441626794268\n",
      "0.7161159932051465\n",
      "0.7928461221757169\n",
      "0.6405404800339158\n",
      "0.8979686565401623\n",
      "0.3573216988053114\n",
      "0.8956073192359711\n",
      "0.3646299109710208\n",
      "0.9035322620855163\n",
      "0.3399306824789701\n",
      "0.8750734729945717\n",
      "0.4263475704375821\n",
      "0.953843746516257\n"
     ]
    }
   ],
   "source": [
    "def main():\n",
    "    print(\"This program illustrates a chaotic function\")\n",
    "    x = eval(input(\"Enter a number between 0 and 1: \"))\n",
    "    for i in range(100):\n",
    "        x=3.9*x*(1-x)\n",
    "        print(x)\n",
    "        \n",
    "main()"
   ]
  },
  {
   "cell_type": "markdown",
   "metadata": {},
   "source": [
    "    b) 3.9 * (x - x * x)"
   ]
  },
  {
   "cell_type": "code",
   "execution_count": 27,
   "metadata": {},
   "outputs": [
    {
     "name": "stdout",
     "output_type": "stream",
     "text": [
      "This program illustrates a chaotic function\n",
      "Enter a number between 0 and 1: .25\n",
      "0.73125\n",
      "0.76644140625\n",
      "0.6981350104385374\n",
      "0.8218958187902304\n",
      "0.5708940191969316\n",
      "0.9553987483642099\n",
      "0.16618672195441295\n",
      "0.5404179120617923\n",
      "0.9686289302998042\n",
      "0.11850901017563896\n",
      "0.40741203626303407\n",
      "0.9415671289870648\n",
      "0.2145720353326712\n",
      "0.6572704202448778\n",
      "0.878537458172398\n",
      "0.4161666317654822\n",
      "0.9475906688447774\n",
      "0.19368411333603094\n",
      "0.6090652525513391\n",
      "0.9286086056750592\n",
      "0.2585491862509983\n",
      "0.747635867705785\n",
      "0.7358382603998516\n",
      "0.7580832282331301\n",
      "0.7152328844885875\n",
      "0.7943317411954173\n",
      "0.6371384218870082\n",
      "0.9016529076451297\n",
      "0.3458322729428301\n",
      "0.8823060165427012\n",
      "0.4049842278894823\n",
      "0.9397908118959444\n",
      "0.22067776291043387\n",
      "0.6707184426823929\n",
      "0.8613353319795843\n",
      "0.46580343366649407\n",
      "0.9704393199188927\n",
      "0.11187870046957413\n",
      "0.3875112417181724\n",
      "0.925650489114829\n",
      "0.26840447835359665\n",
      "0.7658177059779883\n",
      "0.6994296940355393\n",
      "0.8198884088338755\n",
      "0.575918482985552\n",
      "0.9525218973705725\n",
      "0.17637333636053473\n",
      "0.5665365520681948\n",
      "0.9577342602316181\n",
      "0.15786945333983177\n",
      "0.5184920872638563\n",
      "0.973666366563641\n",
      "0.09999667542695391\n",
      "0.3509896272889903\n",
      "0.8884040444156514\n",
      "0.38665496329810245\n",
      "0.9248963203546774\n",
      "0.27090615610131596\n",
      "0.770312441682129\n",
      "0.6900316171001978\n",
      "0.8341631395589068\n",
      "0.5395064850245248\n",
      "0.9689130267999273\n",
      "0.1174702358595895\n",
      "0.40431682023205945\n",
      "0.9392944435270343\n",
      "0.2223795283564658\n",
      "0.6744148075252443\n",
      "0.8563599521721348\n",
      "0.479729579502708\n",
      "0.9733975292061655\n",
      "0.1009896394318408\n",
      "0.35408385542114357\n",
      "0.8919630671298447\n",
      "0.3758233206240429\n",
      "0.9148625939667269\n",
      "0.3037672096960748\n",
      "0.8248214988371892\n",
      "0.5635148761833314\n",
      "0.9592668559633226\n",
      "0.15238842455290233\n",
      "0.5037481511992282\n",
      "0.9749452103140921\n",
      "0.09526548407884088\n",
      "0.33614088932605346\n",
      "0.8702857482116589\n",
      "0.44026501221819464\n",
      "0.9610837518153595\n",
      "0.14586691786630052\n",
      "0.48590006454009715\n",
      "0.9742246480981036\n",
      "0.09793283423129635\n",
      "0.34453377742181496\n",
      "0.8807379891853538\n",
      "0.40965047600526433\n",
      "0.9431641577043063\n",
      "0.20906156437230772\n",
      "0.6448838240305935\n",
      "0.8931338423836608\n",
      "0.37223854969336995\n"
     ]
    }
   ],
   "source": [
    "def main():\n",
    "    print(\"This program illustrates a chaotic function\")\n",
    "    x = eval(input(\"Enter a number between 0 and 1: \"))\n",
    "    for i in range(100):\n",
    "        x=3.9*(x-x*x)\n",
    "        print(x)\n",
    "        \n",
    "main()"
   ]
  },
  {
   "cell_type": "markdown",
   "metadata": {},
   "source": [
    "    C) 3.9 * X - 3.9 * X * X"
   ]
  },
  {
   "cell_type": "code",
   "execution_count": 28,
   "metadata": {},
   "outputs": [
    {
     "name": "stdout",
     "output_type": "stream",
     "text": [
      "This program illustrates a chaotic function\n",
      "Enter a number between 0 and 1: .25\n",
      "0.73125\n",
      "0.7664414062500002\n",
      "0.6981350104385373\n",
      "0.8218958187902308\n",
      "0.5708940191969307\n",
      "0.9553987483642103\n",
      "0.16618672195441153\n",
      "0.5404179120617887\n",
      "0.9686289302998055\n",
      "0.11850901017563409\n",
      "0.4074120362630196\n",
      "0.9415671289870544\n",
      "0.2145720353327074\n",
      "0.6572704202449584\n",
      "0.8785374581722993\n",
      "0.4161666317657735\n",
      "0.9475906688449679\n",
      "0.19368411333536573\n",
      "0.6090652525497497\n",
      "0.9286086056764111\n",
      "0.2585491862464786\n",
      "0.747635867697273\n",
      "0.7358382604162932\n",
      "0.7580832282028851\n",
      "0.7152328845494722\n",
      "0.7943317410932029\n",
      "0.6371384221216707\n",
      "0.901652907394116\n",
      "0.34583227372922964\n",
      "0.8823060174883532\n",
      "0.4049842250695601\n",
      "0.9397908098060351\n",
      "0.22067777007959233\n",
      "0.6707184583019346\n",
      "0.8613353111805415\n",
      "0.4658034922868386\n",
      "0.9704393355548724\n",
      "0.1118786430944918\n",
      "0.38751106802392576\n",
      "0.9256503367132403\n",
      "0.26840498433803006\n",
      "0.7658186200100743\n",
      "0.699427798898165\n",
      "0.819891356803869\n",
      "0.5759111273845008\n",
      "0.952526252882935\n",
      "0.17635796276174664\n",
      "0.5664977437558647\n",
      "0.9577543952939795\n",
      "0.15779756299726833\n",
      "0.5183002192266267\n",
      "0.9736938977074039\n",
      "0.09989495597159337\n",
      "0.3506722195978045\n",
      "0.8880347346005992\n",
      "0.387773274499426\n",
      "0.9258801321253334\n",
      "0.2676418409375434\n",
      "0.7644377750767137\n",
      "0.7022833861386615\n",
      "0.8154175835998809\n",
      "0.5869958170284475\n",
      "0.9454837384962562\n",
      "0.20102253106805668\n",
      "0.6263886449770906\n",
      "0.9127010506413342\n",
      "0.3107435869182016\n",
      "0.8353098394189055\n",
      "0.5365125151965846\n",
      "0.9698006613126748\n",
      "0.11422062065767635\n",
      "0.3945796548495811\n",
      "0.9316575482306295\n",
      "0.24831986811653461\n",
      "0.7279627337389738\n",
      "0.7723286689023894\n",
      "0.685764674766026\n",
      "0.840416793875383\n",
      "0.5230539851456593\n",
      "0.9729272036987247\n",
      "0.10272545400664956\n",
      "0.3594744469125314\n",
      "0.8979850188248981\n",
      "0.35727090668468753\n",
      "0.8955507830934164\n",
      "0.3648043541773216\n",
      "0.9037163356672967\n",
      "0.33935116922994535\n",
      "0.8743486173716358\n",
      "0.42846613942058376\n",
      "0.955043336483358\n",
      "0.16744869149616415\n",
      "0.5436975461283077\n",
      "0.9675530454032213\n",
      "0.12243718396327585\n",
      "0.41904064779103334\n",
      "0.9494377748306275\n",
      "0.1872221775656473\n",
      "0.5934631317935757\n",
      "0.9409321076818131\n"
     ]
    }
   ],
   "source": [
    "def main():\n",
    "    print(\"This program illustrates a chaotic function\")\n",
    "    x = eval(input(\"Enter a number between 0 and 1: \"))\n",
    "    for i in range(100):\n",
    "        x=3.9*x-3.9*x*x\n",
    "        print(x)\n",
    "        \n",
    "main()"
   ]
  },
  {
   "cell_type": "markdown",
   "metadata": {},
   "source": [
    "Comparison: As can be seen from the three examples, they all start with the same numbers being calculated, after some iterations the results begin to change do to the fact of rounding errors that begin to happen. The differences that arise with respect to rounding must be due to the change in the order of opertions that varies for each version of the program."
   ]
  },
  {
   "cell_type": "markdown",
   "metadata": {},
   "source": [
    "7. (Advanced) Modify the chaos program so that it accepts two inputs and\n",
    "then prints a table with two columns similar to the one shown in Section\n",
    "1.8. (Note: You will probably not be able to get the columns to line\n",
    "up as nicely as those in the example. Chapter 5 discusses how to print\n",
    "numbers with a fixed number of decimal places.)"
   ]
  },
  {
   "cell_type": "code",
   "execution_count": 19,
   "metadata": {},
   "outputs": [
    {
     "name": "stdout",
     "output_type": "stream",
     "text": [
      "This program illustrates a chaotic function\n",
      "Enter a number between 0 and 1: .25\n",
      "Enter another number between 0 and 1: .26\n",
      "Input Data:  0.25          0.26\n",
      "---------------------------------------\n",
      "           0.73125      0.75036\n",
      "           0.76644140625      0.73054749456\n",
      "           0.6981350104385375      0.7677066257332165\n",
      "           0.8218958187902304      0.6954993339002887\n",
      "           0.5708940191969317      0.8259420407337192\n",
      "           0.9553987483642099      0.5606709657211202\n",
      "           0.166186721954413      0.9606442322820199\n",
      "           0.5404179120617926      0.14744687593470315\n",
      "           0.9686289302998042      0.49025454937601765\n",
      "           0.11850901017563877      0.9746296021493285\n"
     ]
    }
   ],
   "source": [
    "def main():\n",
    "    print(\"This program illustrates a chaotic function\")\n",
    "    x = eval(input(\"Enter a number between 0 and 1: \"))\n",
    "    y = eval(input(\"Enter another number between 0 and 1: \"))\n",
    "    print(\"Input Data: \",x,\"        \",y)\n",
    "    print(\"---------------------------------------\")\n",
    "    for i in range(10):\n",
    "        x=3.9*x*(1-x)\n",
    "        y=3.9*y*(1-y)\n",
    "        print(\"          \",x,\"    \",y)\n",
    "        \n",
    "main()"
   ]
  }
 ],
 "metadata": {
  "kernelspec": {
   "display_name": "Python 3",
   "language": "python",
   "name": "python3"
  },
  "language_info": {
   "codemirror_mode": {
    "name": "ipython",
    "version": 3
   },
   "file_extension": ".py",
   "mimetype": "text/x-python",
   "name": "python",
   "nbconvert_exporter": "python",
   "pygments_lexer": "ipython3",
   "version": "3.8.3"
  }
 },
 "nbformat": 4,
 "nbformat_minor": 4
}
